{
 "cells": [
  {
   "cell_type": "code",
   "execution_count": 44,
   "metadata": {},
   "outputs": [],
   "source": [
    "import numpy as np\n",
    "import math\n",
    "from env import *\n",
    "import copy\n"
   ]
  },
  {
   "cell_type": "code",
   "execution_count": 2,
   "metadata": {},
   "outputs": [],
   "source": [
    "x_bounds = (0, 50)\n",
    "y_bounds = (0, 30)"
   ]
  },
  {
   "cell_type": "code",
   "execution_count": 59,
   "metadata": {},
   "outputs": [],
   "source": [
    "class Node:\n",
    "    def __init__(self, x, y):\n",
    "        self.x = x\n",
    "        self.y = y\n",
    "        self.parent = None\n",
    "        self.cost = None\n",
    "\n",
    "class RRT_STAR:\n",
    "    def __init__(self, start, goal, env, prob_gs):\n",
    "\n",
    "        self.node_s = Node(start[0], start[1])\n",
    "        self.node_g = Node(goal[0], goal[1])\n",
    "        self.env = env\n",
    "\n",
    "        # CHECK IF START NODE AND GOAL NODE IN THE ENV......\n",
    "\n",
    "        self.prob_gs = prob_gs # Empirical value\n",
    "        \n",
    "        self.node_s.cost = 0\n",
    "        self.Tree = [self.node_s]\n",
    "        \n",
    "        self.radius = max(self.env.x_range[-1], self.env.y_range[-1])//10 # Empirical value\n",
    "    \n",
    "    \n",
    "    def choose_parent(self, N_near, n_nearest, n_new):\n",
    "        n_parent = n_nearest\n",
    "        cost_min = n_nearest.cost + self.compute_cost(n_nearest, n_new) # Init. guess parent for sampled node\n",
    "\n",
    "        for n_near in N_near:\n",
    "            # Compute Trajectory control HERE!!!\n",
    "            # Collision CHECK!!!\n",
    "            inter_cost = n_near.cost + self.compute_cost(n_near, n_new) # Intermediate cost\n",
    "            if n_new in self.Tree:\n",
    "                if inter_cost < n_new.cost and inter_cost < cost_min:\n",
    "                    n_parent = n_near         # New best alternative\n",
    "                    cost_min = inter_cost\n",
    "            else:\n",
    "                if inter_cost < cost_min:\n",
    "                    n_parent = n_near         # New best alternative\n",
    "                    cost_min = inter_cost\n",
    "        \n",
    "        return n_parent\n",
    "\n",
    "    def rewire(self, N_near, n_parent, n_new):\n",
    "        \n",
    "        N_near.remove(n_parent)\n",
    "        for n_near in N_near:\n",
    "            # Steer!!!\n",
    "            # Obstacle!!!\n",
    "            if n_new.cost + self.compute_cost(n_near, n_new) < n_near.cost:\n",
    "                n_near_old = copy.copy(n_near)\n",
    "                n_near.parent = n_new\n",
    "                n_near.cost = n_new.cost + self.compute_cost(n_near, n_new)\n",
    "                self.Tree[self.Tree.index(n_near_old)] = n_near\n",
    "        return\n",
    "    \n",
    "    def compute_NN(self, n_curr, near = False):\n",
    "        \n",
    "        dist_list = np.array([self.compute_dist(n_curr, n_tree) for n_tree in self.Tree])\n",
    "\n",
    "        if not near: # Nearest\n",
    "            return self.Tree[np.argmin(dist_list)]\n",
    "        else:        # Near\n",
    "            node_list = [self.Tree[idx] for idx in range(len(dist_list)) if dist_list[idx] < self.radius]\n",
    "            \n",
    "            return node_list\n",
    "    \n",
    "    \n",
    "    def sample(self):\n",
    "        ''' Sample function RRT*, sample the goal node with a low probability '''\n",
    "        if np.random.random() > self.prob_gs:\n",
    "            x_new = np.random.uniform(self.env.x_range[-1])\n",
    "            y_new = np.random.uniform(self.env.y_range[-1])\n",
    "            # print(x_new, y_new)\n",
    "            return Node(x_new, y_new)\n",
    "        \n",
    "        return self.node_g\n",
    "\n",
    "    def compute_dist(self, n1, n2):\n",
    "\n",
    "        dist = math.sqrt((n1.x-n2.x)**2 + (n1.y - n2.y)**2)\n",
    "\n",
    "        return dist\n",
    "    \n",
    "    def compute_cost(self, n1, n2):\n",
    "        # Add Traversability!!!\n",
    "        cost = self.compute_dist(n1, n2)\n",
    "\n",
    "        return cost\n",
    "    \n",
    "    \n",
    "\n",
    "        \n",
    "\n",
    "\n"
   ]
  },
  {
   "cell_type": "code",
   "execution_count": 60,
   "metadata": {},
   "outputs": [],
   "source": [
    "start = 2,3\n",
    "goal = 7,8\n",
    "env = Env(x_bounds=x_bounds, y_bounds=y_bounds)\n",
    "prob_gs = 0.1\n",
    "\n",
    "\n",
    "rrt = RRT_STAR(start, goal, env, prob_gs)"
   ]
  },
  {
   "cell_type": "code",
   "execution_count": 61,
   "metadata": {},
   "outputs": [],
   "source": [
    "n_new = Node(10, 0)\n",
    "n_nearest = Node(8, 0)\n",
    "n_nearest.cost = 10\n",
    "rrt.Tree.append(n_nearest)\n",
    "n1 = Node(7,0)\n",
    "n1.cost = 3\n",
    "n2 = Node(12, 0)\n",
    "n2.cost = 12\n",
    "\n",
    "rrt.Tree.append(n1)\n",
    "rrt.Tree.append(n2)\n"
   ]
  },
  {
   "cell_type": "code",
   "execution_count": 62,
   "metadata": {},
   "outputs": [],
   "source": [
    "N_near = [n_nearest, n1, n2]"
   ]
  },
  {
   "cell_type": "code",
   "execution_count": 63,
   "metadata": {},
   "outputs": [],
   "source": [
    "parent = rrt.choose_parent(N_near, n_nearest, n_new)"
   ]
  },
  {
   "cell_type": "code",
   "execution_count": 65,
   "metadata": {},
   "outputs": [
    {
     "data": {
      "text/plain": [
       "7"
      ]
     },
     "execution_count": 65,
     "metadata": {},
     "output_type": "execute_result"
    }
   ],
   "source": [
    "parent.x"
   ]
  }
 ],
 "metadata": {
  "kernelspec": {
   "display_name": "my_env",
   "language": "python",
   "name": "python3"
  },
  "language_info": {
   "codemirror_mode": {
    "name": "ipython",
    "version": 3
   },
   "file_extension": ".py",
   "mimetype": "text/x-python",
   "name": "python",
   "nbconvert_exporter": "python",
   "pygments_lexer": "ipython3",
   "version": "3.9.15"
  },
  "orig_nbformat": 4
 },
 "nbformat": 4,
 "nbformat_minor": 2
}
